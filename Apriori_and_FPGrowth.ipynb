{
  "nbformat": 4,
  "nbformat_minor": 0,
  "metadata": {
    "colab": {
      "name": "Apriori-and-FPGrowth.ipynb",
      "provenance": [],
      "collapsed_sections": []
    },
    "kernelspec": {
      "name": "python3",
      "display_name": "Python 3"
    },
    "language_info": {
      "name": "python"
    }
  },
  "cells": [
    {
      "cell_type": "markdown",
      "metadata": {
        "id": "xfDha_4rEjd5"
      },
      "source": [
        "## Apriori Vs FP Gowth\n",
        "\n",
        "### Dataset Used - https://github.com/aryan-jadon/Apriori-and-FPGrowth-Assignment/blob/main/Dataset/store_data.csv\n",
        "\n",
        "#### Market Basket\n",
        "The market basket is a list of some fixed items that are used to track the inflation and overall price movements of a specific market in an economy. In other words, it is a basket that contains a set of standard goods or services that people commonly buys.\n",
        "\n",
        "\n",
        "\n",
        "#### Assosciation Rules\n",
        "Association Rules are widely used to analyze retail basket or transaction data, and are intended to identify strong rules discovered in transaction data using measures of interestingness, based on the concept of strong rules.\n",
        "\n",
        "Assosciation rules are produced using algorithms like :\n",
        "\n",
        "1. Apriori Algorithm\n",
        "2. FP-growth Algorithm\n",
        "\n",
        "A rule can be defined as an implication, X⟶Y where X and Y are subsets of I(X,Y⊆I), and they have no element in common. X and Y are the antecedent and the consequent of the rule, respectively.\n",
        "\n",
        "Eg: {Bread,Egg}=> {Milk} ItemSet={Bread,Egg,Milk}\n",
        "\n",
        "There are various metrics in place to help us understand the strength of assosciation between antecedent and consequent:\n",
        "\n",
        "1. Support\n",
        "2. Confidence\n",
        "3. Lift or Correlation or interest\n",
        "4. Leverage\n",
        "5. Conviction\n"
      ]
    },
    {
      "cell_type": "code",
      "metadata": {
        "colab": {
          "base_uri": "https://localhost:8080/"
        },
        "id": "mJPas-9RFTs_",
        "outputId": "2c025501-8039-454e-f168-192073b3b4d5"
      },
      "source": [
        "! pip install squarify\n",
        "! pip install mlxtend --upgrade"
      ],
      "execution_count": 1,
      "outputs": [
        {
          "output_type": "stream",
          "name": "stdout",
          "text": [
            "Requirement already satisfied: squarify in /usr/local/lib/python3.7/dist-packages (0.4.3)\n",
            "Requirement already satisfied: mlxtend in /usr/local/lib/python3.7/dist-packages (0.19.0)\n",
            "Requirement already satisfied: pandas>=0.24.2 in /usr/local/lib/python3.7/dist-packages (from mlxtend) (1.1.5)\n",
            "Requirement already satisfied: setuptools in /usr/local/lib/python3.7/dist-packages (from mlxtend) (57.4.0)\n",
            "Requirement already satisfied: joblib>=0.13.2 in /usr/local/lib/python3.7/dist-packages (from mlxtend) (1.1.0)\n",
            "Requirement already satisfied: matplotlib>=3.0.0 in /usr/local/lib/python3.7/dist-packages (from mlxtend) (3.2.2)\n",
            "Requirement already satisfied: numpy>=1.16.2 in /usr/local/lib/python3.7/dist-packages (from mlxtend) (1.19.5)\n",
            "Requirement already satisfied: scipy>=1.2.1 in /usr/local/lib/python3.7/dist-packages (from mlxtend) (1.4.1)\n",
            "Requirement already satisfied: scikit-learn>=0.20.3 in /usr/local/lib/python3.7/dist-packages (from mlxtend) (1.0.1)\n",
            "Requirement already satisfied: cycler>=0.10 in /usr/local/lib/python3.7/dist-packages (from matplotlib>=3.0.0->mlxtend) (0.11.0)\n",
            "Requirement already satisfied: pyparsing!=2.0.4,!=2.1.2,!=2.1.6,>=2.0.1 in /usr/local/lib/python3.7/dist-packages (from matplotlib>=3.0.0->mlxtend) (3.0.6)\n",
            "Requirement already satisfied: kiwisolver>=1.0.1 in /usr/local/lib/python3.7/dist-packages (from matplotlib>=3.0.0->mlxtend) (1.3.2)\n",
            "Requirement already satisfied: python-dateutil>=2.1 in /usr/local/lib/python3.7/dist-packages (from matplotlib>=3.0.0->mlxtend) (2.8.2)\n",
            "Requirement already satisfied: pytz>=2017.2 in /usr/local/lib/python3.7/dist-packages (from pandas>=0.24.2->mlxtend) (2018.9)\n",
            "Requirement already satisfied: six>=1.5 in /usr/local/lib/python3.7/dist-packages (from python-dateutil>=2.1->matplotlib>=3.0.0->mlxtend) (1.15.0)\n",
            "Requirement already satisfied: threadpoolctl>=2.0.0 in /usr/local/lib/python3.7/dist-packages (from scikit-learn>=0.20.3->mlxtend) (3.0.0)\n"
          ]
        }
      ]
    },
    {
      "cell_type": "code",
      "metadata": {
        "id": "WMMoHVkwEVcB"
      },
      "source": [
        "''' importing libraries '''\n",
        "import pandas as pd\n",
        "import numpy as np\n",
        "\n",
        "\n",
        "%matplotlib inline\n",
        "import matplotlib.pyplot as plt\n",
        "import seaborn as sns\n",
        "\n",
        "import squarify\n",
        "import matplotlib\n",
        "\n",
        "\n",
        "from mlxtend.frequent_patterns import apriori\n",
        "from mlxtend.frequent_patterns import association_rules,apriori, fpgrowth\n",
        "from mlxtend.preprocessing import TransactionEncoder\n",
        "\n",
        "from IPython.core.interactiveshell import InteractiveShell\n",
        "InteractiveShell.ast_node_interactivity = \"all\""
      ],
      "execution_count": 2,
      "outputs": []
    },
    {
      "cell_type": "markdown",
      "metadata": {
        "id": "zjQMgV_8G8ez"
      },
      "source": [
        "### Checking Dataset"
      ]
    },
    {
      "cell_type": "code",
      "metadata": {
        "id": "TN3xDI7KEzgR"
      },
      "source": [
        "dataset = pd.read_csv(\"https://raw.githubusercontent.com/aryan-jadon/Apriori-and-FPGrowth-Assignment/main/Dataset/store_data.csv\")"
      ],
      "execution_count": 3,
      "outputs": []
    },
    {
      "cell_type": "code",
      "metadata": {
        "colab": {
          "base_uri": "https://localhost:8080/"
        },
        "id": "4nA4L3OIFmGC",
        "outputId": "13930dbd-1d99-41fa-ba7b-d52781a5a255"
      },
      "source": [
        "dataset.shape"
      ],
      "execution_count": 4,
      "outputs": [
        {
          "output_type": "execute_result",
          "data": {
            "text/plain": [
              "(7500, 20)"
            ]
          },
          "metadata": {},
          "execution_count": 4
        }
      ]
    },
    {
      "cell_type": "code",
      "metadata": {
        "colab": {
          "base_uri": "https://localhost:8080/",
          "height": 296
        },
        "id": "lG1x09xIFrFO",
        "outputId": "2cc10d17-c553-44a4-f964-f4f65796d338"
      },
      "source": [
        "dataset.head()"
      ],
      "execution_count": 5,
      "outputs": [
        {
          "output_type": "execute_result",
          "data": {
            "text/html": [
              "<div>\n",
              "<style scoped>\n",
              "    .dataframe tbody tr th:only-of-type {\n",
              "        vertical-align: middle;\n",
              "    }\n",
              "\n",
              "    .dataframe tbody tr th {\n",
              "        vertical-align: top;\n",
              "    }\n",
              "\n",
              "    .dataframe thead th {\n",
              "        text-align: right;\n",
              "    }\n",
              "</style>\n",
              "<table border=\"1\" class=\"dataframe\">\n",
              "  <thead>\n",
              "    <tr style=\"text-align: right;\">\n",
              "      <th></th>\n",
              "      <th>shrimp</th>\n",
              "      <th>almonds</th>\n",
              "      <th>avocado</th>\n",
              "      <th>vegetables mix</th>\n",
              "      <th>green grapes</th>\n",
              "      <th>whole weat flour</th>\n",
              "      <th>yams</th>\n",
              "      <th>cottage cheese</th>\n",
              "      <th>energy drink</th>\n",
              "      <th>tomato juice</th>\n",
              "      <th>low fat yogurt</th>\n",
              "      <th>green tea</th>\n",
              "      <th>honey</th>\n",
              "      <th>salad</th>\n",
              "      <th>mineral water</th>\n",
              "      <th>salmon</th>\n",
              "      <th>antioxydant juice</th>\n",
              "      <th>frozen smoothie</th>\n",
              "      <th>spinach</th>\n",
              "      <th>olive oil</th>\n",
              "    </tr>\n",
              "  </thead>\n",
              "  <tbody>\n",
              "    <tr>\n",
              "      <th>0</th>\n",
              "      <td>burgers</td>\n",
              "      <td>meatballs</td>\n",
              "      <td>eggs</td>\n",
              "      <td>NaN</td>\n",
              "      <td>NaN</td>\n",
              "      <td>NaN</td>\n",
              "      <td>NaN</td>\n",
              "      <td>NaN</td>\n",
              "      <td>NaN</td>\n",
              "      <td>NaN</td>\n",
              "      <td>NaN</td>\n",
              "      <td>NaN</td>\n",
              "      <td>NaN</td>\n",
              "      <td>NaN</td>\n",
              "      <td>NaN</td>\n",
              "      <td>NaN</td>\n",
              "      <td>NaN</td>\n",
              "      <td>NaN</td>\n",
              "      <td>NaN</td>\n",
              "      <td>NaN</td>\n",
              "    </tr>\n",
              "    <tr>\n",
              "      <th>1</th>\n",
              "      <td>chutney</td>\n",
              "      <td>NaN</td>\n",
              "      <td>NaN</td>\n",
              "      <td>NaN</td>\n",
              "      <td>NaN</td>\n",
              "      <td>NaN</td>\n",
              "      <td>NaN</td>\n",
              "      <td>NaN</td>\n",
              "      <td>NaN</td>\n",
              "      <td>NaN</td>\n",
              "      <td>NaN</td>\n",
              "      <td>NaN</td>\n",
              "      <td>NaN</td>\n",
              "      <td>NaN</td>\n",
              "      <td>NaN</td>\n",
              "      <td>NaN</td>\n",
              "      <td>NaN</td>\n",
              "      <td>NaN</td>\n",
              "      <td>NaN</td>\n",
              "      <td>NaN</td>\n",
              "    </tr>\n",
              "    <tr>\n",
              "      <th>2</th>\n",
              "      <td>turkey</td>\n",
              "      <td>avocado</td>\n",
              "      <td>NaN</td>\n",
              "      <td>NaN</td>\n",
              "      <td>NaN</td>\n",
              "      <td>NaN</td>\n",
              "      <td>NaN</td>\n",
              "      <td>NaN</td>\n",
              "      <td>NaN</td>\n",
              "      <td>NaN</td>\n",
              "      <td>NaN</td>\n",
              "      <td>NaN</td>\n",
              "      <td>NaN</td>\n",
              "      <td>NaN</td>\n",
              "      <td>NaN</td>\n",
              "      <td>NaN</td>\n",
              "      <td>NaN</td>\n",
              "      <td>NaN</td>\n",
              "      <td>NaN</td>\n",
              "      <td>NaN</td>\n",
              "    </tr>\n",
              "    <tr>\n",
              "      <th>3</th>\n",
              "      <td>mineral water</td>\n",
              "      <td>milk</td>\n",
              "      <td>energy bar</td>\n",
              "      <td>whole wheat rice</td>\n",
              "      <td>green tea</td>\n",
              "      <td>NaN</td>\n",
              "      <td>NaN</td>\n",
              "      <td>NaN</td>\n",
              "      <td>NaN</td>\n",
              "      <td>NaN</td>\n",
              "      <td>NaN</td>\n",
              "      <td>NaN</td>\n",
              "      <td>NaN</td>\n",
              "      <td>NaN</td>\n",
              "      <td>NaN</td>\n",
              "      <td>NaN</td>\n",
              "      <td>NaN</td>\n",
              "      <td>NaN</td>\n",
              "      <td>NaN</td>\n",
              "      <td>NaN</td>\n",
              "    </tr>\n",
              "    <tr>\n",
              "      <th>4</th>\n",
              "      <td>low fat yogurt</td>\n",
              "      <td>NaN</td>\n",
              "      <td>NaN</td>\n",
              "      <td>NaN</td>\n",
              "      <td>NaN</td>\n",
              "      <td>NaN</td>\n",
              "      <td>NaN</td>\n",
              "      <td>NaN</td>\n",
              "      <td>NaN</td>\n",
              "      <td>NaN</td>\n",
              "      <td>NaN</td>\n",
              "      <td>NaN</td>\n",
              "      <td>NaN</td>\n",
              "      <td>NaN</td>\n",
              "      <td>NaN</td>\n",
              "      <td>NaN</td>\n",
              "      <td>NaN</td>\n",
              "      <td>NaN</td>\n",
              "      <td>NaN</td>\n",
              "      <td>NaN</td>\n",
              "    </tr>\n",
              "  </tbody>\n",
              "</table>\n",
              "</div>"
            ],
            "text/plain": [
              "           shrimp    almonds     avocado  ... frozen smoothie spinach olive oil\n",
              "0         burgers  meatballs        eggs  ...             NaN     NaN       NaN\n",
              "1         chutney        NaN         NaN  ...             NaN     NaN       NaN\n",
              "2          turkey    avocado         NaN  ...             NaN     NaN       NaN\n",
              "3   mineral water       milk  energy bar  ...             NaN     NaN       NaN\n",
              "4  low fat yogurt        NaN         NaN  ...             NaN     NaN       NaN\n",
              "\n",
              "[5 rows x 20 columns]"
            ]
          },
          "metadata": {},
          "execution_count": 5
        }
      ]
    },
    {
      "cell_type": "markdown",
      "metadata": {
        "id": "25dP9wTqFyAq"
      },
      "source": [
        "#### Data Transformation"
      ]
    },
    {
      "cell_type": "code",
      "metadata": {
        "colab": {
          "base_uri": "https://localhost:8080/",
          "height": 35
        },
        "id": "gBv5dHnNFxZZ",
        "outputId": "c940aa57-18c4-4405-e363-a04f29787bae"
      },
      "source": [
        "''' converting into required format of TransactionEncoder()'''\n",
        "\n",
        "trans=[]\n",
        "\n",
        "for i in range(len(dataset)):\n",
        "    trans.append([str(dataset.values[i,j]) for j in range(0,20)])\n",
        "\n",
        "trans=np.array(trans)\n",
        "\n",
        "print(trans.shape)"
      ],
      "execution_count": 6,
      "outputs": [
        {
          "output_type": "execute_result",
          "data": {
            "application/vnd.google.colaboratory.intrinsic+json": {
              "type": "string"
            },
            "text/plain": [
              "' converting into required format of TransactionEncoder()'"
            ]
          },
          "metadata": {},
          "execution_count": 6
        },
        {
          "output_type": "stream",
          "name": "stdout",
          "text": [
            "(7500, 20)\n"
          ]
        }
      ]
    },
    {
      "cell_type": "code",
      "metadata": {
        "colab": {
          "base_uri": "https://localhost:8080/",
          "height": 35
        },
        "id": "nfgClLqkHHG5",
        "outputId": "c21e8e0d-eb26-4b53-b9cf-19112f72e08a"
      },
      "source": [
        "''' Using TransactionEncoder '''\n",
        "\n",
        "te=TransactionEncoder()\n",
        "dataset=te.fit_transform(trans)\n",
        "dataset=pd.DataFrame(dataset,\n",
        "                     columns=te.columns_,\n",
        "                     dtype=int)\n",
        "\n",
        "dataset.shape"
      ],
      "execution_count": 7,
      "outputs": [
        {
          "output_type": "execute_result",
          "data": {
            "application/vnd.google.colaboratory.intrinsic+json": {
              "type": "string"
            },
            "text/plain": [
              "' Using TransactionEncoder '"
            ]
          },
          "metadata": {},
          "execution_count": 7
        },
        {
          "output_type": "execute_result",
          "data": {
            "text/plain": [
              "(7500, 121)"
            ]
          },
          "metadata": {},
          "execution_count": 7
        }
      ]
    },
    {
      "cell_type": "code",
      "metadata": {
        "colab": {
          "base_uri": "https://localhost:8080/",
          "height": 35
        },
        "id": "_fKVMgbTHVlT",
        "outputId": "3e18481e-18af-43cd-cd4a-493c6dd9db77"
      },
      "source": [
        "''' here we also find nan as one of the columns so lets drop that column '''\n",
        "\n",
        "dataset.drop('nan',axis=1,inplace=True)"
      ],
      "execution_count": 8,
      "outputs": [
        {
          "output_type": "execute_result",
          "data": {
            "application/vnd.google.colaboratory.intrinsic+json": {
              "type": "string"
            },
            "text/plain": [
              "' here we also find nan as one of the columns so lets drop that column '"
            ]
          },
          "metadata": {},
          "execution_count": 8
        }
      ]
    },
    {
      "cell_type": "markdown",
      "metadata": {
        "id": "GnreegVPHgBp"
      },
      "source": [
        "### Data Visualizations"
      ]
    },
    {
      "cell_type": "code",
      "metadata": {
        "colab": {
          "base_uri": "https://localhost:8080/",
          "height": 1000
        },
        "id": "5ytWR5zPHYue",
        "outputId": "72976278-9f7d-43b8-9a50-57e5ce3f3936"
      },
      "source": [
        "# Lets consider the top 20 items purchased freequently\n",
        "r=dataset.sum(axis=0).sort_values(ascending=False)[:20]\n",
        "\n",
        "# Altering the figsize\n",
        "plt.figure(figsize=(20,10))\n",
        "s=sns.barplot(x=r.index,y=r.values)\n",
        "s.set_xticklabels(s.get_xticklabels(), rotation=90)\n",
        "\n",
        "# create a color palette, mapped to these values\n",
        "my_values=r.values\n",
        "cmap = matplotlib.cm.Blues\n",
        "mini=min(my_values)\n",
        "maxi=max(my_values)\n",
        "norm = matplotlib.colors.Normalize(vmin=mini, vmax=maxi)\n",
        "colors = [cmap(norm(value)) for value in my_values]\n",
        "\n",
        "\n",
        "#treemap of top 20 frequent items\n",
        "plt.figure(figsize=(10,10))\n",
        "squarify.plot(sizes=r.values, label=r.index, alpha=.7,color=colors)\n",
        "plt.title(\"Tree map of top 20 items\")\n",
        "plt.axis('off')"
      ],
      "execution_count": 9,
      "outputs": [
        {
          "output_type": "execute_result",
          "data": {
            "text/plain": [
              "<Figure size 1440x720 with 0 Axes>"
            ]
          },
          "metadata": {},
          "execution_count": 9
        },
        {
          "output_type": "execute_result",
          "data": {
            "text/plain": [
              "[Text(0, 0, 'mineral water'),\n",
              " Text(0, 0, 'eggs'),\n",
              " Text(0, 0, 'spaghetti'),\n",
              " Text(0, 0, 'french fries'),\n",
              " Text(0, 0, 'chocolate'),\n",
              " Text(0, 0, 'green tea'),\n",
              " Text(0, 0, 'milk'),\n",
              " Text(0, 0, 'ground beef'),\n",
              " Text(0, 0, 'frozen vegetables'),\n",
              " Text(0, 0, 'pancakes'),\n",
              " Text(0, 0, 'burgers'),\n",
              " Text(0, 0, 'cake'),\n",
              " Text(0, 0, 'cookies'),\n",
              " Text(0, 0, 'escalope'),\n",
              " Text(0, 0, 'low fat yogurt'),\n",
              " Text(0, 0, 'shrimp'),\n",
              " Text(0, 0, 'tomatoes'),\n",
              " Text(0, 0, 'olive oil'),\n",
              " Text(0, 0, 'frozen smoothie'),\n",
              " Text(0, 0, 'turkey')]"
            ]
          },
          "metadata": {},
          "execution_count": 9
        },
        {
          "output_type": "execute_result",
          "data": {
            "text/plain": [
              "<Figure size 720x720 with 0 Axes>"
            ]
          },
          "metadata": {},
          "execution_count": 9
        },
        {
          "output_type": "execute_result",
          "data": {
            "text/plain": [
              "<matplotlib.axes._subplots.AxesSubplot at 0x7f6acb02c950>"
            ]
          },
          "metadata": {},
          "execution_count": 9
        },
        {
          "output_type": "execute_result",
          "data": {
            "text/plain": [
              "Text(0.5, 1.0, 'Tree map of top 20 items')"
            ]
          },
          "metadata": {},
          "execution_count": 9
        },
        {
          "output_type": "execute_result",
          "data": {
            "text/plain": [
              "(0.0, 100.0, 0.0, 100.0)"
            ]
          },
          "metadata": {},
          "execution_count": 9
        },
        {
          "output_type": "display_data",
          "data": {
            "image/png": "[encoded data removed]",
            "text/plain": [
              "<Figure size 1440x720 with 1 Axes>"
            ]
          },
          "metadata": {
            "needs_background": "light"
          }
        },
        {
          "output_type": "display_data",
          "data": {
            "image/png": "[encoded data removed]",
            "text/plain": [
              "<Figure size 720x720 with 1 Axes>"
            ]
          },
          "metadata": {
            "needs_background": "light"
          }
        }
      ]
    },
    {
      "cell_type": "markdown",
      "metadata": {
        "id": "T7sIC_Y-ICvh"
      },
      "source": [
        "## Apriori"
      ]
    },
    {
      "cell_type": "code",
      "metadata": {
        "colab": {
          "base_uri": "https://localhost:8080/",
          "height": 927
        },
        "id": "A6UBcZJEIAIC",
        "outputId": "bcf829d8-9d66-42b5-ef93-3aae8af598e5"
      },
      "source": [
        "# let us return items and ietmsets with atleast 5% support:\n",
        "freq_items=apriori(dataset,min_support=0.05,use_colnames=True)\n",
        "freq_items"
      ],
      "execution_count": 10,
      "outputs": [
        {
          "output_type": "execute_result",
          "data": {
            "text/html": [
              "<div>\n",
              "<style scoped>\n",
              "    .dataframe tbody tr th:only-of-type {\n",
              "        vertical-align: middle;\n",
              "    }\n",
              "\n",
              "    .dataframe tbody tr th {\n",
              "        vertical-align: top;\n",
              "    }\n",
              "\n",
              "    .dataframe thead th {\n",
              "        text-align: right;\n",
              "    }\n",
              "</style>\n",
              "<table border=\"1\" class=\"dataframe\">\n",
              "  <thead>\n",
              "    <tr style=\"text-align: right;\">\n",
              "      <th></th>\n",
              "      <th>support</th>\n",
              "      <th>itemsets</th>\n",
              "    </tr>\n",
              "  </thead>\n",
              "  <tbody>\n",
              "    <tr>\n",
              "      <th>0</th>\n",
              "      <td>0.087200</td>\n",
              "      <td>(burgers)</td>\n",
              "    </tr>\n",
              "    <tr>\n",
              "      <th>1</th>\n",
              "      <td>0.081067</td>\n",
              "      <td>(cake)</td>\n",
              "    </tr>\n",
              "    <tr>\n",
              "      <th>2</th>\n",
              "      <td>0.060000</td>\n",
              "      <td>(chicken)</td>\n",
              "    </tr>\n",
              "    <tr>\n",
              "      <th>3</th>\n",
              "      <td>0.163867</td>\n",
              "      <td>(chocolate)</td>\n",
              "    </tr>\n",
              "    <tr>\n",
              "      <th>4</th>\n",
              "      <td>0.080400</td>\n",
              "      <td>(cookies)</td>\n",
              "    </tr>\n",
              "    <tr>\n",
              "      <th>5</th>\n",
              "      <td>0.051067</td>\n",
              "      <td>(cooking oil)</td>\n",
              "    </tr>\n",
              "    <tr>\n",
              "      <th>6</th>\n",
              "      <td>0.179733</td>\n",
              "      <td>(eggs)</td>\n",
              "    </tr>\n",
              "    <tr>\n",
              "      <th>7</th>\n",
              "      <td>0.079333</td>\n",
              "      <td>(escalope)</td>\n",
              "    </tr>\n",
              "    <tr>\n",
              "      <th>8</th>\n",
              "      <td>0.170933</td>\n",
              "      <td>(french fries)</td>\n",
              "    </tr>\n",
              "    <tr>\n",
              "      <th>9</th>\n",
              "      <td>0.063200</td>\n",
              "      <td>(frozen smoothie)</td>\n",
              "    </tr>\n",
              "    <tr>\n",
              "      <th>10</th>\n",
              "      <td>0.095333</td>\n",
              "      <td>(frozen vegetables)</td>\n",
              "    </tr>\n",
              "    <tr>\n",
              "      <th>11</th>\n",
              "      <td>0.052400</td>\n",
              "      <td>(grated cheese)</td>\n",
              "    </tr>\n",
              "    <tr>\n",
              "      <th>12</th>\n",
              "      <td>0.132000</td>\n",
              "      <td>(green tea)</td>\n",
              "    </tr>\n",
              "    <tr>\n",
              "      <th>13</th>\n",
              "      <td>0.098267</td>\n",
              "      <td>(ground beef)</td>\n",
              "    </tr>\n",
              "    <tr>\n",
              "      <th>14</th>\n",
              "      <td>0.076400</td>\n",
              "      <td>(low fat yogurt)</td>\n",
              "    </tr>\n",
              "    <tr>\n",
              "      <th>15</th>\n",
              "      <td>0.129600</td>\n",
              "      <td>(milk)</td>\n",
              "    </tr>\n",
              "    <tr>\n",
              "      <th>16</th>\n",
              "      <td>0.238267</td>\n",
              "      <td>(mineral water)</td>\n",
              "    </tr>\n",
              "    <tr>\n",
              "      <th>17</th>\n",
              "      <td>0.065733</td>\n",
              "      <td>(olive oil)</td>\n",
              "    </tr>\n",
              "    <tr>\n",
              "      <th>18</th>\n",
              "      <td>0.095067</td>\n",
              "      <td>(pancakes)</td>\n",
              "    </tr>\n",
              "    <tr>\n",
              "      <th>19</th>\n",
              "      <td>0.071333</td>\n",
              "      <td>(shrimp)</td>\n",
              "    </tr>\n",
              "    <tr>\n",
              "      <th>20</th>\n",
              "      <td>0.050533</td>\n",
              "      <td>(soup)</td>\n",
              "    </tr>\n",
              "    <tr>\n",
              "      <th>21</th>\n",
              "      <td>0.174133</td>\n",
              "      <td>(spaghetti)</td>\n",
              "    </tr>\n",
              "    <tr>\n",
              "      <th>22</th>\n",
              "      <td>0.068400</td>\n",
              "      <td>(tomatoes)</td>\n",
              "    </tr>\n",
              "    <tr>\n",
              "      <th>23</th>\n",
              "      <td>0.062533</td>\n",
              "      <td>(turkey)</td>\n",
              "    </tr>\n",
              "    <tr>\n",
              "      <th>24</th>\n",
              "      <td>0.058533</td>\n",
              "      <td>(whole wheat rice)</td>\n",
              "    </tr>\n",
              "    <tr>\n",
              "      <th>25</th>\n",
              "      <td>0.052667</td>\n",
              "      <td>(chocolate, mineral water)</td>\n",
              "    </tr>\n",
              "    <tr>\n",
              "      <th>26</th>\n",
              "      <td>0.050933</td>\n",
              "      <td>(eggs, mineral water)</td>\n",
              "    </tr>\n",
              "    <tr>\n",
              "      <th>27</th>\n",
              "      <td>0.059733</td>\n",
              "      <td>(spaghetti, mineral water)</td>\n",
              "    </tr>\n",
              "  </tbody>\n",
              "</table>\n",
              "</div>"
            ],
            "text/plain": [
              "     support                    itemsets\n",
              "0   0.087200                   (burgers)\n",
              "1   0.081067                      (cake)\n",
              "2   0.060000                   (chicken)\n",
              "3   0.163867                 (chocolate)\n",
              "4   0.080400                   (cookies)\n",
              "5   0.051067               (cooking oil)\n",
              "6   0.179733                      (eggs)\n",
              "7   0.079333                  (escalope)\n",
              "8   0.170933              (french fries)\n",
              "9   0.063200           (frozen smoothie)\n",
              "10  0.095333         (frozen vegetables)\n",
              "11  0.052400             (grated cheese)\n",
              "12  0.132000                 (green tea)\n",
              "13  0.098267               (ground beef)\n",
              "14  0.076400            (low fat yogurt)\n",
              "15  0.129600                      (milk)\n",
              "16  0.238267             (mineral water)\n",
              "17  0.065733                 (olive oil)\n",
              "18  0.095067                  (pancakes)\n",
              "19  0.071333                    (shrimp)\n",
              "20  0.050533                      (soup)\n",
              "21  0.174133                 (spaghetti)\n",
              "22  0.068400                  (tomatoes)\n",
              "23  0.062533                    (turkey)\n",
              "24  0.058533          (whole wheat rice)\n",
              "25  0.052667  (chocolate, mineral water)\n",
              "26  0.050933       (eggs, mineral water)\n",
              "27  0.059733  (spaghetti, mineral water)"
            ]
          },
          "metadata": {},
          "execution_count": 10
        }
      ]
    },
    {
      "cell_type": "code",
      "metadata": {
        "colab": {
          "base_uri": "https://localhost:8080/",
          "height": 175
        },
        "id": "iVTaFEN9ILJ2",
        "outputId": "4155b05e-0a1f-40d3-e086-a86ab80a9630"
      },
      "source": [
        "# Now let's generate association rules\n",
        "\n",
        "res=association_rules(freq_items,metric=\"lift\",min_threshold=1.3)\n",
        "res"
      ],
      "execution_count": 11,
      "outputs": [
        {
          "output_type": "execute_result",
          "data": {
            "text/html": [
              "<div>\n",
              "<style scoped>\n",
              "    .dataframe tbody tr th:only-of-type {\n",
              "        vertical-align: middle;\n",
              "    }\n",
              "\n",
              "    .dataframe tbody tr th {\n",
              "        vertical-align: top;\n",
              "    }\n",
              "\n",
              "    .dataframe thead th {\n",
              "        text-align: right;\n",
              "    }\n",
              "</style>\n",
              "<table border=\"1\" class=\"dataframe\">\n",
              "  <thead>\n",
              "    <tr style=\"text-align: right;\">\n",
              "      <th></th>\n",
              "      <th>antecedents</th>\n",
              "      <th>consequents</th>\n",
              "      <th>antecedent support</th>\n",
              "      <th>consequent support</th>\n",
              "      <th>support</th>\n",
              "      <th>confidence</th>\n",
              "      <th>lift</th>\n",
              "      <th>leverage</th>\n",
              "      <th>conviction</th>\n",
              "    </tr>\n",
              "  </thead>\n",
              "  <tbody>\n",
              "    <tr>\n",
              "      <th>0</th>\n",
              "      <td>(chocolate)</td>\n",
              "      <td>(mineral water)</td>\n",
              "      <td>0.163867</td>\n",
              "      <td>0.238267</td>\n",
              "      <td>0.052667</td>\n",
              "      <td>0.321400</td>\n",
              "      <td>1.348907</td>\n",
              "      <td>0.013623</td>\n",
              "      <td>1.122506</td>\n",
              "    </tr>\n",
              "    <tr>\n",
              "      <th>1</th>\n",
              "      <td>(mineral water)</td>\n",
              "      <td>(chocolate)</td>\n",
              "      <td>0.238267</td>\n",
              "      <td>0.163867</td>\n",
              "      <td>0.052667</td>\n",
              "      <td>0.221041</td>\n",
              "      <td>1.348907</td>\n",
              "      <td>0.013623</td>\n",
              "      <td>1.073398</td>\n",
              "    </tr>\n",
              "    <tr>\n",
              "      <th>2</th>\n",
              "      <td>(spaghetti)</td>\n",
              "      <td>(mineral water)</td>\n",
              "      <td>0.174133</td>\n",
              "      <td>0.238267</td>\n",
              "      <td>0.059733</td>\n",
              "      <td>0.343032</td>\n",
              "      <td>1.439698</td>\n",
              "      <td>0.018243</td>\n",
              "      <td>1.159468</td>\n",
              "    </tr>\n",
              "    <tr>\n",
              "      <th>3</th>\n",
              "      <td>(mineral water)</td>\n",
              "      <td>(spaghetti)</td>\n",
              "      <td>0.238267</td>\n",
              "      <td>0.174133</td>\n",
              "      <td>0.059733</td>\n",
              "      <td>0.250699</td>\n",
              "      <td>1.439698</td>\n",
              "      <td>0.018243</td>\n",
              "      <td>1.102184</td>\n",
              "    </tr>\n",
              "  </tbody>\n",
              "</table>\n",
              "</div>"
            ],
            "text/plain": [
              "       antecedents      consequents  ...  leverage  conviction\n",
              "0      (chocolate)  (mineral water)  ...  0.013623    1.122506\n",
              "1  (mineral water)      (chocolate)  ...  0.013623    1.073398\n",
              "2      (spaghetti)  (mineral water)  ...  0.018243    1.159468\n",
              "3  (mineral water)      (spaghetti)  ...  0.018243    1.102184\n",
              "\n",
              "[4 rows x 9 columns]"
            ]
          },
          "metadata": {},
          "execution_count": 11
        }
      ]
    },
    {
      "cell_type": "markdown",
      "metadata": {
        "id": "mMuwz8rEIVdR"
      },
      "source": [
        "There is more chance of the transaction {spaghetti,mineral water} than {chocolate,mineral water} as we can find the interesting nature of rule by comparing lift,leverage and conviction of {spaghetti,mineral water} and {chocolate,mineral water}."
      ]
    },
    {
      "cell_type": "markdown",
      "metadata": {
        "id": "qQ7wb_9PIfJ-"
      },
      "source": [
        "### Selecting and Filtering the Results"
      ]
    },
    {
      "cell_type": "code",
      "metadata": {
        "colab": {
          "base_uri": "https://localhost:8080/",
          "height": 143
        },
        "id": "Wp4nRFFPIYm4",
        "outputId": "5247a945-9d3e-4ad8-9850-62f3ea743b46"
      },
      "source": [
        "frequent_itemsets = apriori(dataset, min_support = 0.05, use_colnames=True)\n",
        "frequent_itemsets['length'] = frequent_itemsets['itemsets'].apply(lambda x: len(x))\n",
        "\n",
        "\n",
        "# getting the item sets with length = 2 and support more han 10%\n",
        "\n",
        "frequent_itemsets[(frequent_itemsets['length'] == 2) &\n",
        "                   (frequent_itemsets['support'] >= 0.01) ]\n",
        "\n",
        "\n"
      ],
      "execution_count": 12,
      "outputs": [
        {
          "output_type": "execute_result",
          "data": {
            "text/html": [
              "<div>\n",
              "<style scoped>\n",
              "    .dataframe tbody tr th:only-of-type {\n",
              "        vertical-align: middle;\n",
              "    }\n",
              "\n",
              "    .dataframe tbody tr th {\n",
              "        vertical-align: top;\n",
              "    }\n",
              "\n",
              "    .dataframe thead th {\n",
              "        text-align: right;\n",
              "    }\n",
              "</style>\n",
              "<table border=\"1\" class=\"dataframe\">\n",
              "  <thead>\n",
              "    <tr style=\"text-align: right;\">\n",
              "      <th></th>\n",
              "      <th>support</th>\n",
              "      <th>itemsets</th>\n",
              "      <th>length</th>\n",
              "    </tr>\n",
              "  </thead>\n",
              "  <tbody>\n",
              "    <tr>\n",
              "      <th>25</th>\n",
              "      <td>0.052667</td>\n",
              "      <td>(chocolate, mineral water)</td>\n",
              "      <td>2</td>\n",
              "    </tr>\n",
              "    <tr>\n",
              "      <th>26</th>\n",
              "      <td>0.050933</td>\n",
              "      <td>(eggs, mineral water)</td>\n",
              "      <td>2</td>\n",
              "    </tr>\n",
              "    <tr>\n",
              "      <th>27</th>\n",
              "      <td>0.059733</td>\n",
              "      <td>(spaghetti, mineral water)</td>\n",
              "      <td>2</td>\n",
              "    </tr>\n",
              "  </tbody>\n",
              "</table>\n",
              "</div>"
            ],
            "text/plain": [
              "     support                    itemsets  length\n",
              "25  0.052667  (chocolate, mineral water)       2\n",
              "26  0.050933       (eggs, mineral water)       2\n",
              "27  0.059733  (spaghetti, mineral water)       2"
            ]
          },
          "metadata": {},
          "execution_count": 12
        }
      ]
    },
    {
      "cell_type": "code",
      "metadata": {
        "colab": {
          "base_uri": "https://localhost:8080/",
          "height": 833
        },
        "id": "LL77QBQdI02y",
        "outputId": "10c4f4cd-12ee-4ecd-ac66-6480cae66697"
      },
      "source": [
        "# getting th item sets with length = 2 and support more han 10%\n",
        "\n",
        "frequent_itemsets[ (frequent_itemsets['length'] == 1) &\n",
        "                   (frequent_itemsets['support'] >= 0.01) ]"
      ],
      "execution_count": 13,
      "outputs": [
        {
          "output_type": "execute_result",
          "data": {
            "text/html": [
              "<div>\n",
              "<style scoped>\n",
              "    .dataframe tbody tr th:only-of-type {\n",
              "        vertical-align: middle;\n",
              "    }\n",
              "\n",
              "    .dataframe tbody tr th {\n",
              "        vertical-align: top;\n",
              "    }\n",
              "\n",
              "    .dataframe thead th {\n",
              "        text-align: right;\n",
              "    }\n",
              "</style>\n",
              "<table border=\"1\" class=\"dataframe\">\n",
              "  <thead>\n",
              "    <tr style=\"text-align: right;\">\n",
              "      <th></th>\n",
              "      <th>support</th>\n",
              "      <th>itemsets</th>\n",
              "      <th>length</th>\n",
              "    </tr>\n",
              "  </thead>\n",
              "  <tbody>\n",
              "    <tr>\n",
              "      <th>0</th>\n",
              "      <td>0.087200</td>\n",
              "      <td>(burgers)</td>\n",
              "      <td>1</td>\n",
              "    </tr>\n",
              "    <tr>\n",
              "      <th>1</th>\n",
              "      <td>0.081067</td>\n",
              "      <td>(cake)</td>\n",
              "      <td>1</td>\n",
              "    </tr>\n",
              "    <tr>\n",
              "      <th>2</th>\n",
              "      <td>0.060000</td>\n",
              "      <td>(chicken)</td>\n",
              "      <td>1</td>\n",
              "    </tr>\n",
              "    <tr>\n",
              "      <th>3</th>\n",
              "      <td>0.163867</td>\n",
              "      <td>(chocolate)</td>\n",
              "      <td>1</td>\n",
              "    </tr>\n",
              "    <tr>\n",
              "      <th>4</th>\n",
              "      <td>0.080400</td>\n",
              "      <td>(cookies)</td>\n",
              "      <td>1</td>\n",
              "    </tr>\n",
              "    <tr>\n",
              "      <th>5</th>\n",
              "      <td>0.051067</td>\n",
              "      <td>(cooking oil)</td>\n",
              "      <td>1</td>\n",
              "    </tr>\n",
              "    <tr>\n",
              "      <th>6</th>\n",
              "      <td>0.179733</td>\n",
              "      <td>(eggs)</td>\n",
              "      <td>1</td>\n",
              "    </tr>\n",
              "    <tr>\n",
              "      <th>7</th>\n",
              "      <td>0.079333</td>\n",
              "      <td>(escalope)</td>\n",
              "      <td>1</td>\n",
              "    </tr>\n",
              "    <tr>\n",
              "      <th>8</th>\n",
              "      <td>0.170933</td>\n",
              "      <td>(french fries)</td>\n",
              "      <td>1</td>\n",
              "    </tr>\n",
              "    <tr>\n",
              "      <th>9</th>\n",
              "      <td>0.063200</td>\n",
              "      <td>(frozen smoothie)</td>\n",
              "      <td>1</td>\n",
              "    </tr>\n",
              "    <tr>\n",
              "      <th>10</th>\n",
              "      <td>0.095333</td>\n",
              "      <td>(frozen vegetables)</td>\n",
              "      <td>1</td>\n",
              "    </tr>\n",
              "    <tr>\n",
              "      <th>11</th>\n",
              "      <td>0.052400</td>\n",
              "      <td>(grated cheese)</td>\n",
              "      <td>1</td>\n",
              "    </tr>\n",
              "    <tr>\n",
              "      <th>12</th>\n",
              "      <td>0.132000</td>\n",
              "      <td>(green tea)</td>\n",
              "      <td>1</td>\n",
              "    </tr>\n",
              "    <tr>\n",
              "      <th>13</th>\n",
              "      <td>0.098267</td>\n",
              "      <td>(ground beef)</td>\n",
              "      <td>1</td>\n",
              "    </tr>\n",
              "    <tr>\n",
              "      <th>14</th>\n",
              "      <td>0.076400</td>\n",
              "      <td>(low fat yogurt)</td>\n",
              "      <td>1</td>\n",
              "    </tr>\n",
              "    <tr>\n",
              "      <th>15</th>\n",
              "      <td>0.129600</td>\n",
              "      <td>(milk)</td>\n",
              "      <td>1</td>\n",
              "    </tr>\n",
              "    <tr>\n",
              "      <th>16</th>\n",
              "      <td>0.238267</td>\n",
              "      <td>(mineral water)</td>\n",
              "      <td>1</td>\n",
              "    </tr>\n",
              "    <tr>\n",
              "      <th>17</th>\n",
              "      <td>0.065733</td>\n",
              "      <td>(olive oil)</td>\n",
              "      <td>1</td>\n",
              "    </tr>\n",
              "    <tr>\n",
              "      <th>18</th>\n",
              "      <td>0.095067</td>\n",
              "      <td>(pancakes)</td>\n",
              "      <td>1</td>\n",
              "    </tr>\n",
              "    <tr>\n",
              "      <th>19</th>\n",
              "      <td>0.071333</td>\n",
              "      <td>(shrimp)</td>\n",
              "      <td>1</td>\n",
              "    </tr>\n",
              "    <tr>\n",
              "      <th>20</th>\n",
              "      <td>0.050533</td>\n",
              "      <td>(soup)</td>\n",
              "      <td>1</td>\n",
              "    </tr>\n",
              "    <tr>\n",
              "      <th>21</th>\n",
              "      <td>0.174133</td>\n",
              "      <td>(spaghetti)</td>\n",
              "      <td>1</td>\n",
              "    </tr>\n",
              "    <tr>\n",
              "      <th>22</th>\n",
              "      <td>0.068400</td>\n",
              "      <td>(tomatoes)</td>\n",
              "      <td>1</td>\n",
              "    </tr>\n",
              "    <tr>\n",
              "      <th>23</th>\n",
              "      <td>0.062533</td>\n",
              "      <td>(turkey)</td>\n",
              "      <td>1</td>\n",
              "    </tr>\n",
              "    <tr>\n",
              "      <th>24</th>\n",
              "      <td>0.058533</td>\n",
              "      <td>(whole wheat rice)</td>\n",
              "      <td>1</td>\n",
              "    </tr>\n",
              "  </tbody>\n",
              "</table>\n",
              "</div>"
            ],
            "text/plain": [
              "     support             itemsets  length\n",
              "0   0.087200            (burgers)       1\n",
              "1   0.081067               (cake)       1\n",
              "2   0.060000            (chicken)       1\n",
              "3   0.163867          (chocolate)       1\n",
              "4   0.080400            (cookies)       1\n",
              "5   0.051067        (cooking oil)       1\n",
              "6   0.179733               (eggs)       1\n",
              "7   0.079333           (escalope)       1\n",
              "8   0.170933       (french fries)       1\n",
              "9   0.063200    (frozen smoothie)       1\n",
              "10  0.095333  (frozen vegetables)       1\n",
              "11  0.052400      (grated cheese)       1\n",
              "12  0.132000          (green tea)       1\n",
              "13  0.098267        (ground beef)       1\n",
              "14  0.076400     (low fat yogurt)       1\n",
              "15  0.129600               (milk)       1\n",
              "16  0.238267      (mineral water)       1\n",
              "17  0.065733          (olive oil)       1\n",
              "18  0.095067           (pancakes)       1\n",
              "19  0.071333             (shrimp)       1\n",
              "20  0.050533               (soup)       1\n",
              "21  0.174133          (spaghetti)       1\n",
              "22  0.068400           (tomatoes)       1\n",
              "23  0.062533             (turkey)       1\n",
              "24  0.058533   (whole wheat rice)       1"
            ]
          },
          "metadata": {},
          "execution_count": 13
        }
      ]
    },
    {
      "cell_type": "markdown",
      "metadata": {
        "id": "z1bJMHBXI95C"
      },
      "source": [
        "### Shortcomings Of Apriori Algorithm\n",
        "\n",
        "1. Using Apriori needs a generation of candidate itemsets. These itemsets may be large in number if the itemset in the database is huge.\n",
        "\n",
        "2. Apriori needs multiple scans of the database to check the support of each itemset generated and this leads to high costs. These shortcomings can be overcome using the FP growth algorithm."
      ]
    },
    {
      "cell_type": "markdown",
      "metadata": {
        "id": "Goz1DC-SJJP7"
      },
      "source": [
        "### FP-Growth\n",
        "\n",
        "A frequent pattern is generated without the need for candidate generation. FP growth algorithm represents the database in the form of a tree called a frequent pattern tree or FP tree.\n",
        "\n",
        "This tree structure will maintain the association between the itemsets. The database is fragmented using one frequent item. This fragmented part is called “pattern fragment”. The itemsets of these fragmented patterns are analyzed. Thus with this method, the search for frequent itemsets is reduced comparatively.\n",
        "\n",
        "FP TREE\n",
        "Frequent Pattern Tree is a tree-like structure that is made with the initial itemsets of the database. The purpose of the FP tree is to mine the most frequent pattern. Each node of the FP tree represents an item of the itemset.\n",
        "\n",
        "The root node represents null while the lower nodes represent the itemsets. The association of the nodes with the lower nodes that is the itemsets with the other itemsets are maintained while forming the tree.\n",
        "\n"
      ]
    },
    {
      "cell_type": "code",
      "metadata": {
        "colab": {
          "base_uri": "https://localhost:8080/",
          "height": 927
        },
        "id": "7qegU0jYJRRJ",
        "outputId": "fce24329-f6e1-41bc-c6f8-ffb93a40996e"
      },
      "source": [
        "#running the fpgrowth algorithm\n",
        "res=fpgrowth(dataset,min_support=0.05,use_colnames=True)\n",
        "res"
      ],
      "execution_count": 15,
      "outputs": [
        {
          "output_type": "execute_result",
          "data": {
            "text/html": [
              "<div>\n",
              "<style scoped>\n",
              "    .dataframe tbody tr th:only-of-type {\n",
              "        vertical-align: middle;\n",
              "    }\n",
              "\n",
              "    .dataframe tbody tr th {\n",
              "        vertical-align: top;\n",
              "    }\n",
              "\n",
              "    .dataframe thead th {\n",
              "        text-align: right;\n",
              "    }\n",
              "</style>\n",
              "<table border=\"1\" class=\"dataframe\">\n",
              "  <thead>\n",
              "    <tr style=\"text-align: right;\">\n",
              "      <th></th>\n",
              "      <th>support</th>\n",
              "      <th>itemsets</th>\n",
              "    </tr>\n",
              "  </thead>\n",
              "  <tbody>\n",
              "    <tr>\n",
              "      <th>0</th>\n",
              "      <td>0.179733</td>\n",
              "      <td>(eggs)</td>\n",
              "    </tr>\n",
              "    <tr>\n",
              "      <th>1</th>\n",
              "      <td>0.087200</td>\n",
              "      <td>(burgers)</td>\n",
              "    </tr>\n",
              "    <tr>\n",
              "      <th>2</th>\n",
              "      <td>0.062533</td>\n",
              "      <td>(turkey)</td>\n",
              "    </tr>\n",
              "    <tr>\n",
              "      <th>3</th>\n",
              "      <td>0.238267</td>\n",
              "      <td>(mineral water)</td>\n",
              "    </tr>\n",
              "    <tr>\n",
              "      <th>4</th>\n",
              "      <td>0.132000</td>\n",
              "      <td>(green tea)</td>\n",
              "    </tr>\n",
              "    <tr>\n",
              "      <th>5</th>\n",
              "      <td>0.129600</td>\n",
              "      <td>(milk)</td>\n",
              "    </tr>\n",
              "    <tr>\n",
              "      <th>6</th>\n",
              "      <td>0.058533</td>\n",
              "      <td>(whole wheat rice)</td>\n",
              "    </tr>\n",
              "    <tr>\n",
              "      <th>7</th>\n",
              "      <td>0.076400</td>\n",
              "      <td>(low fat yogurt)</td>\n",
              "    </tr>\n",
              "    <tr>\n",
              "      <th>8</th>\n",
              "      <td>0.170933</td>\n",
              "      <td>(french fries)</td>\n",
              "    </tr>\n",
              "    <tr>\n",
              "      <th>9</th>\n",
              "      <td>0.050533</td>\n",
              "      <td>(soup)</td>\n",
              "    </tr>\n",
              "    <tr>\n",
              "      <th>10</th>\n",
              "      <td>0.174133</td>\n",
              "      <td>(spaghetti)</td>\n",
              "    </tr>\n",
              "    <tr>\n",
              "      <th>11</th>\n",
              "      <td>0.095333</td>\n",
              "      <td>(frozen vegetables)</td>\n",
              "    </tr>\n",
              "    <tr>\n",
              "      <th>12</th>\n",
              "      <td>0.080400</td>\n",
              "      <td>(cookies)</td>\n",
              "    </tr>\n",
              "    <tr>\n",
              "      <th>13</th>\n",
              "      <td>0.051067</td>\n",
              "      <td>(cooking oil)</td>\n",
              "    </tr>\n",
              "    <tr>\n",
              "      <th>14</th>\n",
              "      <td>0.163867</td>\n",
              "      <td>(chocolate)</td>\n",
              "    </tr>\n",
              "    <tr>\n",
              "      <th>15</th>\n",
              "      <td>0.071333</td>\n",
              "      <td>(shrimp)</td>\n",
              "    </tr>\n",
              "    <tr>\n",
              "      <th>16</th>\n",
              "      <td>0.060000</td>\n",
              "      <td>(chicken)</td>\n",
              "    </tr>\n",
              "    <tr>\n",
              "      <th>17</th>\n",
              "      <td>0.068400</td>\n",
              "      <td>(tomatoes)</td>\n",
              "    </tr>\n",
              "    <tr>\n",
              "      <th>18</th>\n",
              "      <td>0.095067</td>\n",
              "      <td>(pancakes)</td>\n",
              "    </tr>\n",
              "    <tr>\n",
              "      <th>19</th>\n",
              "      <td>0.052400</td>\n",
              "      <td>(grated cheese)</td>\n",
              "    </tr>\n",
              "    <tr>\n",
              "      <th>20</th>\n",
              "      <td>0.098267</td>\n",
              "      <td>(ground beef)</td>\n",
              "    </tr>\n",
              "    <tr>\n",
              "      <th>21</th>\n",
              "      <td>0.079333</td>\n",
              "      <td>(escalope)</td>\n",
              "    </tr>\n",
              "    <tr>\n",
              "      <th>22</th>\n",
              "      <td>0.063200</td>\n",
              "      <td>(frozen smoothie)</td>\n",
              "    </tr>\n",
              "    <tr>\n",
              "      <th>23</th>\n",
              "      <td>0.081067</td>\n",
              "      <td>(cake)</td>\n",
              "    </tr>\n",
              "    <tr>\n",
              "      <th>24</th>\n",
              "      <td>0.065733</td>\n",
              "      <td>(olive oil)</td>\n",
              "    </tr>\n",
              "    <tr>\n",
              "      <th>25</th>\n",
              "      <td>0.050933</td>\n",
              "      <td>(eggs, mineral water)</td>\n",
              "    </tr>\n",
              "    <tr>\n",
              "      <th>26</th>\n",
              "      <td>0.059733</td>\n",
              "      <td>(spaghetti, mineral water)</td>\n",
              "    </tr>\n",
              "    <tr>\n",
              "      <th>27</th>\n",
              "      <td>0.052667</td>\n",
              "      <td>(chocolate, mineral water)</td>\n",
              "    </tr>\n",
              "  </tbody>\n",
              "</table>\n",
              "</div>"
            ],
            "text/plain": [
              "     support                    itemsets\n",
              "0   0.179733                      (eggs)\n",
              "1   0.087200                   (burgers)\n",
              "2   0.062533                    (turkey)\n",
              "3   0.238267             (mineral water)\n",
              "4   0.132000                 (green tea)\n",
              "5   0.129600                      (milk)\n",
              "6   0.058533          (whole wheat rice)\n",
              "7   0.076400            (low fat yogurt)\n",
              "8   0.170933              (french fries)\n",
              "9   0.050533                      (soup)\n",
              "10  0.174133                 (spaghetti)\n",
              "11  0.095333         (frozen vegetables)\n",
              "12  0.080400                   (cookies)\n",
              "13  0.051067               (cooking oil)\n",
              "14  0.163867                 (chocolate)\n",
              "15  0.071333                    (shrimp)\n",
              "16  0.060000                   (chicken)\n",
              "17  0.068400                  (tomatoes)\n",
              "18  0.095067                  (pancakes)\n",
              "19  0.052400             (grated cheese)\n",
              "20  0.098267               (ground beef)\n",
              "21  0.079333                  (escalope)\n",
              "22  0.063200           (frozen smoothie)\n",
              "23  0.081067                      (cake)\n",
              "24  0.065733                 (olive oil)\n",
              "25  0.050933       (eggs, mineral water)\n",
              "26  0.059733  (spaghetti, mineral water)\n",
              "27  0.052667  (chocolate, mineral water)"
            ]
          },
          "metadata": {},
          "execution_count": 15
        }
      ]
    },
    {
      "cell_type": "code",
      "metadata": {
        "colab": {
          "base_uri": "https://localhost:8080/",
          "height": 238
        },
        "id": "cjBOmS8cKMt0",
        "outputId": "44867803-b6b5-4260-f53b-455fbca9e25d"
      },
      "source": [
        "res=association_rules(res,metric=\"lift\",min_threshold=1)\n",
        "res"
      ],
      "execution_count": 16,
      "outputs": [
        {
          "output_type": "execute_result",
          "data": {
            "text/html": [
              "<div>\n",
              "<style scoped>\n",
              "    .dataframe tbody tr th:only-of-type {\n",
              "        vertical-align: middle;\n",
              "    }\n",
              "\n",
              "    .dataframe tbody tr th {\n",
              "        vertical-align: top;\n",
              "    }\n",
              "\n",
              "    .dataframe thead th {\n",
              "        text-align: right;\n",
              "    }\n",
              "</style>\n",
              "<table border=\"1\" class=\"dataframe\">\n",
              "  <thead>\n",
              "    <tr style=\"text-align: right;\">\n",
              "      <th></th>\n",
              "      <th>antecedents</th>\n",
              "      <th>consequents</th>\n",
              "      <th>antecedent support</th>\n",
              "      <th>consequent support</th>\n",
              "      <th>support</th>\n",
              "      <th>confidence</th>\n",
              "      <th>lift</th>\n",
              "      <th>leverage</th>\n",
              "      <th>conviction</th>\n",
              "    </tr>\n",
              "  </thead>\n",
              "  <tbody>\n",
              "    <tr>\n",
              "      <th>0</th>\n",
              "      <td>(eggs)</td>\n",
              "      <td>(mineral water)</td>\n",
              "      <td>0.179733</td>\n",
              "      <td>0.238267</td>\n",
              "      <td>0.050933</td>\n",
              "      <td>0.283383</td>\n",
              "      <td>1.189351</td>\n",
              "      <td>0.008109</td>\n",
              "      <td>1.062957</td>\n",
              "    </tr>\n",
              "    <tr>\n",
              "      <th>1</th>\n",
              "      <td>(mineral water)</td>\n",
              "      <td>(eggs)</td>\n",
              "      <td>0.238267</td>\n",
              "      <td>0.179733</td>\n",
              "      <td>0.050933</td>\n",
              "      <td>0.213766</td>\n",
              "      <td>1.189351</td>\n",
              "      <td>0.008109</td>\n",
              "      <td>1.043286</td>\n",
              "    </tr>\n",
              "    <tr>\n",
              "      <th>2</th>\n",
              "      <td>(spaghetti)</td>\n",
              "      <td>(mineral water)</td>\n",
              "      <td>0.174133</td>\n",
              "      <td>0.238267</td>\n",
              "      <td>0.059733</td>\n",
              "      <td>0.343032</td>\n",
              "      <td>1.439698</td>\n",
              "      <td>0.018243</td>\n",
              "      <td>1.159468</td>\n",
              "    </tr>\n",
              "    <tr>\n",
              "      <th>3</th>\n",
              "      <td>(mineral water)</td>\n",
              "      <td>(spaghetti)</td>\n",
              "      <td>0.238267</td>\n",
              "      <td>0.174133</td>\n",
              "      <td>0.059733</td>\n",
              "      <td>0.250699</td>\n",
              "      <td>1.439698</td>\n",
              "      <td>0.018243</td>\n",
              "      <td>1.102184</td>\n",
              "    </tr>\n",
              "    <tr>\n",
              "      <th>4</th>\n",
              "      <td>(chocolate)</td>\n",
              "      <td>(mineral water)</td>\n",
              "      <td>0.163867</td>\n",
              "      <td>0.238267</td>\n",
              "      <td>0.052667</td>\n",
              "      <td>0.321400</td>\n",
              "      <td>1.348907</td>\n",
              "      <td>0.013623</td>\n",
              "      <td>1.122506</td>\n",
              "    </tr>\n",
              "    <tr>\n",
              "      <th>5</th>\n",
              "      <td>(mineral water)</td>\n",
              "      <td>(chocolate)</td>\n",
              "      <td>0.238267</td>\n",
              "      <td>0.163867</td>\n",
              "      <td>0.052667</td>\n",
              "      <td>0.221041</td>\n",
              "      <td>1.348907</td>\n",
              "      <td>0.013623</td>\n",
              "      <td>1.073398</td>\n",
              "    </tr>\n",
              "  </tbody>\n",
              "</table>\n",
              "</div>"
            ],
            "text/plain": [
              "       antecedents      consequents  ...  leverage  conviction\n",
              "0           (eggs)  (mineral water)  ...  0.008109    1.062957\n",
              "1  (mineral water)           (eggs)  ...  0.008109    1.043286\n",
              "2      (spaghetti)  (mineral water)  ...  0.018243    1.159468\n",
              "3  (mineral water)      (spaghetti)  ...  0.018243    1.102184\n",
              "4      (chocolate)  (mineral water)  ...  0.013623    1.122506\n",
              "5  (mineral water)      (chocolate)  ...  0.013623    1.073398\n",
              "\n",
              "[6 rows x 9 columns]"
            ]
          },
          "metadata": {},
          "execution_count": 16
        }
      ]
    },
    {
      "cell_type": "markdown",
      "metadata": {
        "id": "SUZZZFT4E0Fx"
      },
      "source": [
        "## Conclusion\n",
        "\n",
        "Apriori Algorithm :\n",
        "\n",
        "1. It is a classic algorithm for learning association rules.\n",
        "2. It uses a bottom up approach where frequent subsets are extended one at a time.\n",
        "3. It uses Breadth first search and hash tree structure to count candidate item sets efficiently.\n",
        "\n",
        "FP Growth:\n",
        "\n",
        "1. It allows frequent item set discovery without candidate generation.\n",
        "2. It builds a compact data structure called FP tree with two passes over thedatabase.\n",
        "3. It extracts frequent item sets directly from the FP tree and traverses through the FP tree.\n"
      ]
    },
    {
      "cell_type": "code",
      "metadata": {
        "id": "shb8tMs0E3V9"
      },
      "source": [
        ""
      ],
      "execution_count": null,
      "outputs": []
    }
  ]
}